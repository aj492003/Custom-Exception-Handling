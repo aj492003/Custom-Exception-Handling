{
 "cells": [
  {
   "cell_type": "code",
   "execution_count": 1,
   "id": "45122eaf-5cf0-4ef4-8fe9-7550b92c9735",
   "metadata": {},
   "outputs": [
    {
     "name": "stdin",
     "output_type": "stream",
     "text": [
      "enter your age -345\n"
     ]
    }
   ],
   "source": [
    "age = int(input(\"enter your age\"))"
   ]
  },
  {
   "cell_type": "code",
   "execution_count": 5,
   "id": "55807aad-dc2e-4e1a-a35e-569b7781c1bf",
   "metadata": {},
   "outputs": [],
   "source": [
    "class validateage(Exception):\n",
    "   \n",
    "    def __init__(self,msg) :\n",
    "        self.msg = msg"
   ]
  },
  {
   "cell_type": "code",
   "execution_count": 10,
   "id": "73ae223d-08db-4b5b-ad75-30b881364b3a",
   "metadata": {},
   "outputs": [],
   "source": [
    "def validateage(age):\n",
    "    if age < 0 :\n",
    "        raise validateage(\"entered age is negative\")\n",
    "    elif age > 200 :\n",
    "        raise validateage(\"entered age is very very high\")\n",
    "    else:\n",
    "        print(\"age is valid\")"
   ]
  },
  {
   "cell_type": "code",
   "execution_count": 12,
   "id": "df381e6d-d183-4e9e-9e9d-19773df1d3bd",
   "metadata": {},
   "outputs": [
    {
     "name": "stdin",
     "output_type": "stream",
     "text": [
      "enter your age 20\n"
     ]
    },
    {
     "name": "stdout",
     "output_type": "stream",
     "text": [
      "age is valid\n"
     ]
    }
   ],
   "source": [
    "try:\n",
    "    age = int(input(\"enter your age\"))\n",
    "    validateage(age)\n",
    "except validateage as e:\n",
    "    print(e)"
   ]
  },
  {
   "cell_type": "code",
   "execution_count": null,
   "id": "cb4fc656-4f96-4a11-9dc0-8a91fc71e2aa",
   "metadata": {},
   "outputs": [],
   "source": []
  }
 ],
 "metadata": {
  "kernelspec": {
   "display_name": "Python 3 (ipykernel)",
   "language": "python",
   "name": "python3"
  },
  "language_info": {
   "codemirror_mode": {
    "name": "ipython",
    "version": 3
   },
   "file_extension": ".py",
   "mimetype": "text/x-python",
   "name": "python",
   "nbconvert_exporter": "python",
   "pygments_lexer": "ipython3",
   "version": "3.10.8"
  }
 },
 "nbformat": 4,
 "nbformat_minor": 5
}
